{
 "cells": [
  {
   "cell_type": "code",
   "execution_count": 64,
   "metadata": {},
   "outputs": [],
   "source": [
    "import numpy as np\n",
    "import os\n",
    "import matplotlib.pyplot as plt\n",
    "from keras.datasets import mnist\n",
    "from keras.utils import np_utils\n",
    "from keras.models import Sequential\n",
    "from keras.layers import Conv2D\n",
    "from keras.layers import MaxPooling2D\n",
    "from keras.layers import Dense\n",
    "from keras.layers import Dropout\n",
    "from keras.layers import Flatten\n",
    "from keras.preprocessing.image import ImageDataGenerator"
   ]
  },
  {
   "cell_type": "code",
   "execution_count": 36,
   "metadata": {},
   "outputs": [],
   "source": [
    "#fix seed\n",
    "seed = 7\n",
    "np.random.seed(seed)"
   ]
  },
  {
   "cell_type": "code",
   "execution_count": 37,
   "metadata": {},
   "outputs": [],
   "source": [
    "#load and reshape\n",
    "(X_train,Y_train),(X_test,Y_test) = mnist.load_data()\n",
    "X_train = X_train.reshape(X_train.shape[0],1,28,28).astype('float32')\n",
    "X_test = X_test.reshape(X_test.shape[0],1,28,28).astype('float32')\n",
    "\n"
   ]
  },
  {
   "cell_type": "code",
   "execution_count": 38,
   "metadata": {},
   "outputs": [],
   "source": [
    "#normalize\n",
    "X_train = X_train/255\n",
    "X_test = X_test/255"
   ]
  },
  {
   "cell_type": "code",
   "execution_count": 39,
   "metadata": {},
   "outputs": [
    {
     "data": {
      "text/plain": [
       "(10000, 10)"
      ]
     },
     "execution_count": 39,
     "metadata": {},
     "output_type": "execute_result"
    }
   ],
   "source": [
    "#one hot coding\n",
    "Y_train = np_utils.to_categorical(Y_train)\n",
    "Y_test = np_utils.to_categorical(Y_test)\n",
    "num_classes = Y_test.shape[1]\n",
    "Y_test.shape \n"
   ]
  },
  {
   "cell_type": "code",
   "execution_count": 48,
   "metadata": {},
   "outputs": [],
   "source": [
    "def baseline():\n",
    "    model = Sequential()\n",
    "    model.add(Conv2D(30,(5,5),input_shape = (1,28,28),activation='relu',padding='valid',data_format='channels_first'))\n",
    "    #model.add(Dropout(0.2))\n",
    "    model.add(MaxPooling2D(pool_size=(2,2)))\n",
    "    model.add(Conv2D(15,(3,3),activation='relu'))\n",
    "    model.add(MaxPooling2D(pool_size=(2,2)))\n",
    "    model.add(Dropout(0.2))\n",
    "    model.add(Flatten())\n",
    "    model.add(Dense(128,activation='relu'))\n",
    "    model.add(Dense(50,activation='relu'))\n",
    "    model.add(Dense(num_classes,activation='softmax'))\n",
    "    #compile\n",
    "    model.compile(loss='categorical_crossentropy',optimizer='adam',metrics=['accuracy'])\n",
    "    return model"
   ]
  },
  {
   "cell_type": "code",
   "execution_count": 49,
   "metadata": {},
   "outputs": [
    {
     "name": "stderr",
     "output_type": "stream",
     "text": [
      "C:\\Users\\gjjim\\AppData\\Local\\Continuum\\anaconda3\\envs\\tf\\lib\\site-packages\\ipykernel_launcher.py:2: UserWarning: The `nb_epoch` argument in `fit` has been renamed `epochs`.\n",
      "  \n"
     ]
    },
    {
     "name": "stdout",
     "output_type": "stream",
     "text": [
      "Train on 60000 samples, validate on 10000 samples\n",
      "Epoch 1/10\n",
      " - 37s - loss: 0.4499 - accuracy: 0.8611 - val_loss: 0.1265 - val_accuracy: 0.9599\n",
      "Epoch 2/10\n",
      " - 38s - loss: 0.1329 - accuracy: 0.9597 - val_loss: 0.0802 - val_accuracy: 0.9744\n",
      "Epoch 3/10\n",
      " - 37s - loss: 0.0925 - accuracy: 0.9717 - val_loss: 0.0560 - val_accuracy: 0.9813\n",
      "Epoch 4/10\n",
      " - 35s - loss: 0.0731 - accuracy: 0.9769 - val_loss: 0.0568 - val_accuracy: 0.9803\n",
      "Epoch 5/10\n",
      " - 38s - loss: 0.0611 - accuracy: 0.9811 - val_loss: 0.0395 - val_accuracy: 0.9853\n",
      "Epoch 6/10\n",
      " - 38s - loss: 0.0525 - accuracy: 0.9840 - val_loss: 0.0351 - val_accuracy: 0.9886\n",
      "Epoch 7/10\n",
      " - 34s - loss: 0.0464 - accuracy: 0.9857 - val_loss: 0.0307 - val_accuracy: 0.9898\n",
      "Epoch 8/10\n",
      " - 36s - loss: 0.0410 - accuracy: 0.9866 - val_loss: 0.0345 - val_accuracy: 0.9880\n",
      "Epoch 9/10\n",
      " - 37s - loss: 0.0380 - accuracy: 0.9880 - val_loss: 0.0280 - val_accuracy: 0.9899\n",
      "Epoch 10/10\n",
      " - 38s - loss: 0.0351 - accuracy: 0.9888 - val_loss: 0.0331 - val_accuracy: 0.9875\n",
      "[0.033063187119551, 0.987500011920929]\n"
     ]
    }
   ],
   "source": [
    "model = baseline()\n",
    "model.fit(X_train,Y_train,validation_data = (X_test,Y_test),nb_epoch=10,batch_size=200,verbose=2)\n",
    "#evaluate\n",
    "score = model.evaluate(X_test,Y_test,verbose=0)\n",
    "print(score)"
   ]
  },
  {
   "cell_type": "code",
   "execution_count": 44,
   "metadata": {},
   "outputs": [
    {
     "name": "stdout",
     "output_type": "stream",
     "text": [
      "Error rate: 1.069999 %\n"
     ]
    }
   ],
   "source": [
    "print(\"Error rate: %f %%\" %(100-score[1]*100))"
   ]
  },
  {
   "cell_type": "code",
   "execution_count": 69,
   "metadata": {},
   "outputs": [
    {
     "data": {
      "image/png": "[encoded data removed]",
      "text/plain": [
       "<Figure size 432x288 with 9 Axes>"
      ]
     },
     "metadata": {
      "needs_background": "light"
     },
     "output_type": "display_data"
    }
   ],
   "source": [
    "#improve through augmentation\n",
    "datagen = ImageDataGenerator()\n",
    "(X_train,Y_train),(X_test,Y_test) = mnist.load_data()\n",
    "X_train = X_train.reshape(X_train.shape[0],1,28,28).astype('float32')\n",
    "X_test = X_test.reshape(X_test.shape[0],1,28,28).astype('float32')\n",
    "#Y_train = np_utils.to_categorical(Y_train)\n",
    "#Y_test = np_utils.to_categorical(Y_test)\n",
    "#use datagen\n",
    "datagen = ImageDataGenerator(featurewise_center=True,samplewise_center=True,\n",
    "                            featurewise_std_normalization=True,samplewise_std_normalization=True,\n",
    "                            zca_whitening=True, rotation_range=90,width_shift_range=0.2,height_shift_range=0.2,\n",
    "                            vertical_flip=True,horizontal_flip=True)\n",
    "datagen.fit(X_train)\n",
    "#destination = os.makedirs('AugImages')\n",
    "flow = datagen.flow(X_train,Y_train,batch_size=9)\n",
    "#retrieve a batch of images\n",
    "X_sample,Y_sample = next(flow)\n",
    "#create a grid to view\n",
    "for i in range(0,9):\n",
    "    plt.subplot(330+1+i)\n",
    "    plt.imshow(X_sample[i].reshape(28,28),cmap=plt.get_cmap('gray'))\n",
    "plt.show()"
   ]
  },
  {
   "cell_type": "code",
   "execution_count": null,
   "metadata": {},
   "outputs": [],
   "source": []
  }
 ],
 "metadata": {
  "kernelspec": {
   "display_name": "Python 3",
   "language": "python",
   "name": "python3"
  },
  "language_info": {
   "codemirror_mode": {
    "name": "ipython",
    "version": 3
   },
   "file_extension": ".py",
   "mimetype": "text/x-python",
   "name": "python",
   "nbconvert_exporter": "python",
   "pygments_lexer": "ipython3",
   "version": "3.7.4"
  }
 },
 "nbformat": 4,
 "nbformat_minor": 2
}
